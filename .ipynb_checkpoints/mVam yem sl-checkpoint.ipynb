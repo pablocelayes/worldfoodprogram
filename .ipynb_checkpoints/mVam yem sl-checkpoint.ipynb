{
 "cells": [
  {
   "cell_type": "code",
   "execution_count": 222,
   "metadata": {
    "collapsed": true
   },
   "outputs": [],
   "source": [
    "import pandas as pd"
   ]
  },
  {
   "cell_type": "markdown",
   "metadata": {},
   "source": [
    "### Sierra Leone"
   ]
  },
  {
   "cell_type": "code",
   "execution_count": 223,
   "metadata": {
    "collapsed": true
   },
   "outputs": [],
   "source": [
    "sl = pd.read_csv('Sierra Leone/mVAM/Data/data_SL_hackathon_clean.csv')  ## not in the repo"
   ]
  },
  {
   "cell_type": "code",
   "execution_count": 224,
   "metadata": {
    "collapsed": false
   },
   "outputs": [
    {
     "data": {
      "text/plain": [
       "array(['Kailahun', 'Western Urban', 'Bo', 'Kenema', 'Tonkolili',\n",
       "       'Koinadugu', 'Bombali', 'Kono', 'Port Loko', 'Moyamba',\n",
       "       'Western Rural', 'Bonthe', 'Pujehun', 'Kambia'], dtype=object)"
      ]
     },
     "execution_count": 224,
     "metadata": {},
     "output_type": "execute_result"
    }
   ],
   "source": [
    "sl['ADM2_NAME'].unique()"
   ]
  },
  {
   "cell_type": "code",
   "execution_count": 225,
   "metadata": {
    "collapsed": false
   },
   "outputs": [],
   "source": [
    "sl['month'] = pd.to_datetime(sl['SvyDate']).dt.month\n",
    "sl['year'] = pd.to_datetime(sl['SvyDate']).dt.year"
   ]
  },
  {
   "cell_type": "markdown",
   "metadata": {},
   "source": [
    "### YEMEN"
   ]
  },
  {
   "cell_type": "code",
   "execution_count": 226,
   "metadata": {
    "collapsed": false
   },
   "outputs": [],
   "source": [
    "yemen = pd.read_csv('Yemen/mVAM/Data/YEM_WFP_mVAM_RawData.csv') ## not in the repo\n",
    "gy = pd.read_csv('yem_bnd_adm2.csv') # geo information on Yemen\n",
    "popy = pd.read_csv('yemen district population.csv') # population info"
   ]
  },
  {
   "cell_type": "code",
   "execution_count": 227,
   "metadata": {
    "collapsed": true
   },
   "outputs": [],
   "source": [
    "perc = pd.read_csv('yemen_district_perc.csv')"
   ]
  },
  {
   "cell_type": "code",
   "execution_count": 228,
   "metadata": {
    "collapsed": false
   },
   "outputs": [],
   "source": [
    "gy.DistrictNa = gy.DistrictNa.apply(lambda x: x.upper())\n",
    "merged = pd.merge(left=yemen, right=gy, right_on='DistrictNa', left_on='ADM2_NAME', how='left')"
   ]
  },
  {
   "cell_type": "code",
   "execution_count": 229,
   "metadata": {
    "collapsed": true
   },
   "outputs": [],
   "source": [
    "popul = pd.merge(left=merged, right=popy, left_on=\"DistrictID\", right_on=\"Cd\")"
   ]
  },
  {
   "cell_type": "code",
   "execution_count": 230,
   "metadata": {
    "collapsed": false
   },
   "outputs": [],
   "source": [
    "joined = pd.merge(left=perc, right=gy, left_on=\"Var1\", right_on=\"DistrictNa\", how=\"left\")"
   ]
  },
  {
   "cell_type": "code",
   "execution_count": 231,
   "metadata": {
    "collapsed": false,
    "scrolled": true
   },
   "outputs": [],
   "source": [
    "joined['relevant'] = np.where(joined['perc'] >= 0.0025, 1, 0)"
   ]
  },
  {
   "cell_type": "code",
   "execution_count": 232,
   "metadata": {
    "collapsed": true
   },
   "outputs": [],
   "source": [
    "joined.to_csv('yemen-perc-geo.csv')"
   ]
  },
  {
   "cell_type": "code",
   "execution_count": 233,
   "metadata": {
    "collapsed": true
   },
   "outputs": [],
   "source": [
    "popul.to_csv('yemen-enriched.csv')"
   ]
  }
 ],
 "metadata": {
  "kernelspec": {
   "display_name": "Python 2",
   "language": "python",
   "name": "python2"
  },
  "language_info": {
   "codemirror_mode": {
    "name": "ipython",
    "version": 2
   },
   "file_extension": ".py",
   "mimetype": "text/x-python",
   "name": "python",
   "nbconvert_exporter": "python",
   "pygments_lexer": "ipython2",
   "version": "2.7.8"
  }
 },
 "nbformat": 4,
 "nbformat_minor": 0
}
