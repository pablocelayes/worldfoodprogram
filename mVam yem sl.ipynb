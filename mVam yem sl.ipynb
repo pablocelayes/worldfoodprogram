{
 "cells": [
  {
   "cell_type": "code",
   "execution_count": 1,
   "metadata": {
    "collapsed": true
   },
   "outputs": [],
   "source": [
    "import pandas as pd"
   ]
  },
  {
   "cell_type": "code",
   "execution_count": 2,
   "metadata": {
    "collapsed": true
   },
   "outputs": [],
   "source": [
    "yemen = pd.read_csv('Yemen/mVAM/Data/YEM_WFP_mVAM_RawData.csv')"
   ]
  },
  {
   "cell_type": "code",
   "execution_count": 3,
   "metadata": {
    "collapsed": true
   },
   "outputs": [],
   "source": [
    "sl = pd.read_csv('Sierra Leone/mVAM/Data/data_SL_hackathon_clean.csv')"
   ]
  },
  {
   "cell_type": "code",
   "execution_count": 5,
   "metadata": {
    "collapsed": false
   },
   "outputs": [
    {
     "data": {
      "text/plain": [
       "Index([u'ObsID', u'SvyID', u'Round', u'SvyDate', u'ObsDate', u'RspTime',\n",
       "       u'ADM0_NAME', u'ADM1_NAME', u'ADM2_NAME', u'RspID', u'Age', u'Gender',\n",
       "       u'HoHSex', u'ToiletType', u'roof', u'LessExpensiveFood',\n",
       "       u'BorrowOrHelp', u'ReduceNumMeals', u'LimitPortionSize',\n",
       "       u'RestrictConsumption', u'rCSI', u'expenditure', u'ManLbr_cln',\n",
       "       u'ImpRiceCup_cln', u'LocRiceCup_cln', u'PalmOil_cln', u'Sentiment'],\n",
       "      dtype='object')"
      ]
     },
     "execution_count": 5,
     "metadata": {},
     "output_type": "execute_result"
    }
   ],
   "source": [
    "sl.columns"
   ]
  },
  {
   "cell_type": "code",
   "execution_count": 6,
   "metadata": {
    "collapsed": false
   },
   "outputs": [
    {
     "data": {
      "text/plain": [
       "Index([u'ObsID', u'SvyID', u'SvyDate', u'RspID', u'ObsDate',\n",
       "       u'OperatorID_code', u'ADM0_NAME', u'REGION', u'ADM1_NAME', u'ADM2_NAME',\n",
       "       u'Age', u'Gender', u'HoHSex', u'IDP_YN', u'YearDisplaced',\n",
       "       u'From_other_Governorate_YN', u'DisplaceGovn', u'HouseType',\n",
       "       u'Other_HouseType', u'Staples', u'Pulses', u'Veg', u'Fruits',\n",
       "       u'Proteins', u'Dairy', u'Sugars', u'Fats', u'FCS', u'FCG',\n",
       "       u'LessExpensiveFood', u'BorrowOrHelp', u'ReduceNumMeals',\n",
       "       u'LimitPortionSize', u'RestrictConsumption', u'rCSI', u'CSG',\n",
       "       u'FoodAssistance_YN', u'Month_FoodAssistance', u'Year_FoodAssistance',\n",
       "       u'Form_FoodAssistance', u'Sentiment', u'num_phones'],\n",
       "      dtype='object')"
      ]
     },
     "execution_count": 6,
     "metadata": {},
     "output_type": "execute_result"
    }
   ],
   "source": [
    "yemen.columns"
   ]
  },
  {
   "cell_type": "code",
   "execution_count": null,
   "metadata": {
    "collapsed": true
   },
   "outputs": [],
   "source": []
  }
 ],
 "metadata": {
  "kernelspec": {
   "display_name": "Python 2",
   "language": "python",
   "name": "python2"
  },
  "language_info": {
   "codemirror_mode": {
    "name": "ipython",
    "version": 2
   },
   "file_extension": ".py",
   "mimetype": "text/x-python",
   "name": "python",
   "nbconvert_exporter": "python",
   "pygments_lexer": "ipython2",
   "version": "2.7.8"
  }
 },
 "nbformat": 4,
 "nbformat_minor": 0
}
